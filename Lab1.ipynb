{
  "nbformat": 4,
  "nbformat_minor": 0,
  "metadata": {
    "colab": {
      "name": "Lab1.ipynb",
      "version": "0.3.2",
      "provenance": [],
      "collapsed_sections": [],
      "include_colab_link": true
    },
    "kernelspec": {
      "display_name": "Python 3",
      "language": "python",
      "name": "python3"
    },
    "accelerator": "GPU"
  },
  "cells": [
    {
      "cell_type": "markdown",
      "metadata": {
        "id": "view-in-github",
        "colab_type": "text"
      },
      "source": [
        "[View in Colaboratory](https://colab.research.google.com/github/humber8/machine_learning/blob/master/Lab1.ipynb)"
      ]
    },
    {
      "metadata": {
        "id": "NC-ceGb8LRLT",
        "colab_type": "text"
      },
      "cell_type": "markdown",
      "source": [
        "# Práctica de Sistemas Recomendadores 1: Pyreclab"
      ]
    },
    {
      "metadata": {
        "id": "mACJbcW8T35p",
        "colab_type": "text"
      },
      "cell_type": "markdown",
      "source": [
        "En este práctico vamos a utilizar la biblioteca de Python [pyreclab](https://github.com/gasevi/pyreclab) desarrollado por los Laboratorios IALab y SocVis de la Pontificia Universidad Católica de Chile, para aprender sobre algoritmos básicos y tradicionales de sistemas de recomendacion:\n",
        "\n",
        "\n",
        "*   Most Popular\n",
        "*   Item Average Rating\n",
        "*   User KNN (Filtrado colaborativo basado en usuarios)\n",
        "*   Item KNN (Filtrado colaborativo basado en items)\n",
        "*   FunkSVD (Factorización matricial SVD regularizada)\n",
        "\n",
        "\n",
        "**Autores**: Denis Parra, Gabriel Sepúlveda\n"
      ]
    },
    {
      "metadata": {
        "id": "YbhbI8isNdqE",
        "colab_type": "text"
      },
      "cell_type": "markdown",
      "source": [
        "# **Nombre Integrante 1**: Francisco Marin Küllmer\n",
        "\n",
        "---\n",
        "\n",
        "\n",
        "\n",
        "# **Nombre Integrante 2**: Humberto Alvarez Vilches"
      ]
    },
    {
      "metadata": {
        "id": "9qKTQ2V5VKSX",
        "colab_type": "text"
      },
      "cell_type": "markdown",
      "source": [
        "#Instrucciones\n",
        "\n",
        "Vaya ejecutando cada celda presionand el botón de Play o presionando Ctrl+Enter (Linux y Windows) o Command+Enter (Macosx)"
      ]
    },
    {
      "metadata": {
        "id": "LJuUuUB-LahX",
        "colab_type": "text"
      },
      "cell_type": "markdown",
      "source": [
        "1.-  Descargue los siguientes tres archivos, siguiendo los links, a su computador local (u1.base, u1.test, u.item)\n",
        "\n",
        "https://drive.google.com/file/d/1Anro2DyEgN0sUHXFyxVe2qoSya6hzQSp/view?usp=sharing\n",
        "\n",
        "https://drive.google.com/file/d/1Awy3QKCdkSpNeRXATqRBUMi56M47Ia0n/view?usp=sharing\n",
        "\n",
        "https://drive.google.com/file/d/1B7QhEodQ13QlOHOTp9zaa52exlfgAOl3/view?usp=sharing\n"
      ]
    },
    {
      "metadata": {
        "id": "SEF-5tx457eB",
        "colab_type": "code",
        "colab": {
          "resources": {
            "http://localhost:8080/nbextensions/google.colab/files.js": {
              "data": "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",
              "ok": true,
              "headers": [
                [
                  "content-type",
                  "application/javascript"
                ]
              ],
              "status": 200,
              "status_text": ""
            }
          },
          "base_uri": "https://localhost:8080/",
          "height": 38
        },
        "outputId": "7a1f7047-18a4-4107-bb71-ac5cc21a4f88"
      },
      "cell_type": "code",
      "source": [
        "# Ejecute esta celda. Deberá subir los archivos u1.base, u1.test y u.item que descargó en el paso anterior\n",
        "from google.colab import files\n",
        "uploaded = files.upload()"
      ],
      "execution_count": 43,
      "outputs": [
        {
          "output_type": "display_data",
          "data": {
            "text/html": [
              "\n",
              "     <input type=\"file\" id=\"files-6415ea0d-a241-4d08-a030-6a3bc19f1764\" name=\"files[]\" multiple disabled />\n",
              "     <output id=\"result-6415ea0d-a241-4d08-a030-6a3bc19f1764\">\n",
              "      Upload widget is only available when the cell has been executed in the\n",
              "      current browser session. Please rerun this cell to enable.\n",
              "      </output>\n",
              "      <script src=\"/nbextensions/google.colab/files.js\"></script> "
            ],
            "text/plain": [
              "<IPython.core.display.HTML object>"
            ]
          },
          "metadata": {
            "tags": []
          }
        }
      ]
    },
    {
      "metadata": {
        "id": "liJ3L2kl4g1o",
        "colab_type": "text"
      },
      "cell_type": "markdown",
      "source": [
        "Los archivos u1.base y u1.test tienen tuplas {usuario, item, rating, timestamp}, que es la información de preferencias de usuarios sobre películas en una muestra del dataset [movielens](https://grouplens.org/datasets/movielens/).\n",
        "\n",
        "Revisemos cómo es uno de estos archivos:"
      ]
    },
    {
      "metadata": {
        "id": "10N9GHcw5AeV",
        "colab_type": "code",
        "colab": {
          "base_uri": "https://localhost:8080/",
          "height": 197
        },
        "outputId": "a543ada1-2d32-427c-a04b-1540493d78ec"
      },
      "cell_type": "code",
      "source": [
        "import pandas as pd\n",
        "\n",
        "train_file = pd.read_csv('u1.base', sep='\\t', names = ['userid', 'itemid', 'rating', 'timestamp'], header=None)\n",
        "\n",
        "train_file.tail()"
      ],
      "execution_count": 59,
      "outputs": [
        {
          "output_type": "execute_result",
          "data": {
            "text/html": [
              "<div>\n",
              "<style scoped>\n",
              "    .dataframe tbody tr th:only-of-type {\n",
              "        vertical-align: middle;\n",
              "    }\n",
              "\n",
              "    .dataframe tbody tr th {\n",
              "        vertical-align: top;\n",
              "    }\n",
              "\n",
              "    .dataframe thead th {\n",
              "        text-align: right;\n",
              "    }\n",
              "</style>\n",
              "<table border=\"1\" class=\"dataframe\">\n",
              "  <thead>\n",
              "    <tr style=\"text-align: right;\">\n",
              "      <th></th>\n",
              "      <th>userid</th>\n",
              "      <th>itemid</th>\n",
              "      <th>rating</th>\n",
              "      <th>timestamp</th>\n",
              "    </tr>\n",
              "  </thead>\n",
              "  <tbody>\n",
              "    <tr>\n",
              "      <th>79995</th>\n",
              "      <td>943</td>\n",
              "      <td>1067</td>\n",
              "      <td>2</td>\n",
              "      <td>875501756</td>\n",
              "    </tr>\n",
              "    <tr>\n",
              "      <th>79996</th>\n",
              "      <td>943</td>\n",
              "      <td>1074</td>\n",
              "      <td>4</td>\n",
              "      <td>888640250</td>\n",
              "    </tr>\n",
              "    <tr>\n",
              "      <th>79997</th>\n",
              "      <td>943</td>\n",
              "      <td>1188</td>\n",
              "      <td>3</td>\n",
              "      <td>888640250</td>\n",
              "    </tr>\n",
              "    <tr>\n",
              "      <th>79998</th>\n",
              "      <td>943</td>\n",
              "      <td>1228</td>\n",
              "      <td>3</td>\n",
              "      <td>888640275</td>\n",
              "    </tr>\n",
              "    <tr>\n",
              "      <th>79999</th>\n",
              "      <td>943</td>\n",
              "      <td>1330</td>\n",
              "      <td>3</td>\n",
              "      <td>888692465</td>\n",
              "    </tr>\n",
              "  </tbody>\n",
              "</table>\n",
              "</div>"
            ],
            "text/plain": [
              "       userid  itemid  rating  timestamp\n",
              "79995     943    1067       2  875501756\n",
              "79996     943    1074       4  888640250\n",
              "79997     943    1188       3  888640250\n",
              "79998     943    1228       3  888640275\n",
              "79999     943    1330       3  888692465"
            ]
          },
          "metadata": {
            "tags": []
          },
          "execution_count": 59
        }
      ]
    },
    {
      "metadata": {
        "id": "BKOrcfaiEdqM",
        "colab_type": "text"
      },
      "cell_type": "markdown",
      "source": [
        "Por otra parte, para obtener información adicional de cada película tal como *título*, *fecha de lanzamient*o, *género*, etc., cargaremos el archivo de items descargado ( *u.item* ) para poder mapear cada identificador de ítem al conjunto de datos que lo describe.\n",
        "Revisemos el contenido de este archivo"
      ]
    },
    {
      "metadata": {
        "id": "bVtvxJnr_yeK",
        "colab_type": "code",
        "colab": {
          "base_uri": "https://localhost:8080/",
          "height": 410
        },
        "outputId": "26ca2a96-6fa7-41ca-8482-551e52f08cb7"
      },
      "cell_type": "code",
      "source": [
        "info_cols = [ 'movieid', 'title', 'release_date', 'video_release_date', 'IMDb_URL', \\\n",
        "              'unknown', 'Action', 'Adventure', 'Animation', 'Children', 'Comedy', \\\n",
        "              'Crime', 'Documentary', 'Drama', 'Fantasy', 'Film-Noir', 'Horror', \\\n",
        "              'Musical', 'Mystery', 'Romance', 'Sci-Fi', 'Thriller', 'War', 'Western' ]\n",
        "\n",
        "info_file = pd.read_csv('u.item', sep='|', index_col = 0, names = info_cols, header=None, encoding='latin-1')\n",
        "#info_file = pd.read_csv('u.item', sep='|',  names = info_cols, header=None, encoding='latin-1')\n",
        "\n",
        "info_file.head()"
      ],
      "execution_count": 60,
      "outputs": [
        {
          "output_type": "execute_result",
          "data": {
            "text/html": [
              "<div>\n",
              "<style scoped>\n",
              "    .dataframe tbody tr th:only-of-type {\n",
              "        vertical-align: middle;\n",
              "    }\n",
              "\n",
              "    .dataframe tbody tr th {\n",
              "        vertical-align: top;\n",
              "    }\n",
              "\n",
              "    .dataframe thead th {\n",
              "        text-align: right;\n",
              "    }\n",
              "</style>\n",
              "<table border=\"1\" class=\"dataframe\">\n",
              "  <thead>\n",
              "    <tr style=\"text-align: right;\">\n",
              "      <th></th>\n",
              "      <th>title</th>\n",
              "      <th>release_date</th>\n",
              "      <th>video_release_date</th>\n",
              "      <th>IMDb_URL</th>\n",
              "      <th>unknown</th>\n",
              "      <th>Action</th>\n",
              "      <th>Adventure</th>\n",
              "      <th>Animation</th>\n",
              "      <th>Children</th>\n",
              "      <th>Comedy</th>\n",
              "      <th>...</th>\n",
              "      <th>Fantasy</th>\n",
              "      <th>Film-Noir</th>\n",
              "      <th>Horror</th>\n",
              "      <th>Musical</th>\n",
              "      <th>Mystery</th>\n",
              "      <th>Romance</th>\n",
              "      <th>Sci-Fi</th>\n",
              "      <th>Thriller</th>\n",
              "      <th>War</th>\n",
              "      <th>Western</th>\n",
              "    </tr>\n",
              "    <tr>\n",
              "      <th>movieid</th>\n",
              "      <th></th>\n",
              "      <th></th>\n",
              "      <th></th>\n",
              "      <th></th>\n",
              "      <th></th>\n",
              "      <th></th>\n",
              "      <th></th>\n",
              "      <th></th>\n",
              "      <th></th>\n",
              "      <th></th>\n",
              "      <th></th>\n",
              "      <th></th>\n",
              "      <th></th>\n",
              "      <th></th>\n",
              "      <th></th>\n",
              "      <th></th>\n",
              "      <th></th>\n",
              "      <th></th>\n",
              "      <th></th>\n",
              "      <th></th>\n",
              "      <th></th>\n",
              "    </tr>\n",
              "  </thead>\n",
              "  <tbody>\n",
              "    <tr>\n",
              "      <th>1</th>\n",
              "      <td>Toy Story (1995)</td>\n",
              "      <td>01-Jan-1995</td>\n",
              "      <td>NaN</td>\n",
              "      <td>http://us.imdb.com/M/title-exact?Toy%20Story%2...</td>\n",
              "      <td>0</td>\n",
              "      <td>0</td>\n",
              "      <td>0</td>\n",
              "      <td>1</td>\n",
              "      <td>1</td>\n",
              "      <td>1</td>\n",
              "      <td>...</td>\n",
              "      <td>0</td>\n",
              "      <td>0</td>\n",
              "      <td>0</td>\n",
              "      <td>0</td>\n",
              "      <td>0</td>\n",
              "      <td>0</td>\n",
              "      <td>0</td>\n",
              "      <td>0</td>\n",
              "      <td>0</td>\n",
              "      <td>0</td>\n",
              "    </tr>\n",
              "    <tr>\n",
              "      <th>2</th>\n",
              "      <td>GoldenEye (1995)</td>\n",
              "      <td>01-Jan-1995</td>\n",
              "      <td>NaN</td>\n",
              "      <td>http://us.imdb.com/M/title-exact?GoldenEye%20(...</td>\n",
              "      <td>0</td>\n",
              "      <td>1</td>\n",
              "      <td>1</td>\n",
              "      <td>0</td>\n",
              "      <td>0</td>\n",
              "      <td>0</td>\n",
              "      <td>...</td>\n",
              "      <td>0</td>\n",
              "      <td>0</td>\n",
              "      <td>0</td>\n",
              "      <td>0</td>\n",
              "      <td>0</td>\n",
              "      <td>0</td>\n",
              "      <td>0</td>\n",
              "      <td>1</td>\n",
              "      <td>0</td>\n",
              "      <td>0</td>\n",
              "    </tr>\n",
              "    <tr>\n",
              "      <th>3</th>\n",
              "      <td>Four Rooms (1995)</td>\n",
              "      <td>01-Jan-1995</td>\n",
              "      <td>NaN</td>\n",
              "      <td>http://us.imdb.com/M/title-exact?Four%20Rooms%...</td>\n",
              "      <td>0</td>\n",
              "      <td>0</td>\n",
              "      <td>0</td>\n",
              "      <td>0</td>\n",
              "      <td>0</td>\n",
              "      <td>0</td>\n",
              "      <td>...</td>\n",
              "      <td>0</td>\n",
              "      <td>0</td>\n",
              "      <td>0</td>\n",
              "      <td>0</td>\n",
              "      <td>0</td>\n",
              "      <td>0</td>\n",
              "      <td>0</td>\n",
              "      <td>1</td>\n",
              "      <td>0</td>\n",
              "      <td>0</td>\n",
              "    </tr>\n",
              "    <tr>\n",
              "      <th>4</th>\n",
              "      <td>Get Shorty (1995)</td>\n",
              "      <td>01-Jan-1995</td>\n",
              "      <td>NaN</td>\n",
              "      <td>http://us.imdb.com/M/title-exact?Get%20Shorty%...</td>\n",
              "      <td>0</td>\n",
              "      <td>1</td>\n",
              "      <td>0</td>\n",
              "      <td>0</td>\n",
              "      <td>0</td>\n",
              "      <td>1</td>\n",
              "      <td>...</td>\n",
              "      <td>0</td>\n",
              "      <td>0</td>\n",
              "      <td>0</td>\n",
              "      <td>0</td>\n",
              "      <td>0</td>\n",
              "      <td>0</td>\n",
              "      <td>0</td>\n",
              "      <td>0</td>\n",
              "      <td>0</td>\n",
              "      <td>0</td>\n",
              "    </tr>\n",
              "    <tr>\n",
              "      <th>5</th>\n",
              "      <td>Copycat (1995)</td>\n",
              "      <td>01-Jan-1995</td>\n",
              "      <td>NaN</td>\n",
              "      <td>http://us.imdb.com/M/title-exact?Copycat%20(1995)</td>\n",
              "      <td>0</td>\n",
              "      <td>0</td>\n",
              "      <td>0</td>\n",
              "      <td>0</td>\n",
              "      <td>0</td>\n",
              "      <td>0</td>\n",
              "      <td>...</td>\n",
              "      <td>0</td>\n",
              "      <td>0</td>\n",
              "      <td>0</td>\n",
              "      <td>0</td>\n",
              "      <td>0</td>\n",
              "      <td>0</td>\n",
              "      <td>0</td>\n",
              "      <td>1</td>\n",
              "      <td>0</td>\n",
              "      <td>0</td>\n",
              "    </tr>\n",
              "  </tbody>\n",
              "</table>\n",
              "<p>5 rows × 23 columns</p>\n",
              "</div>"
            ],
            "text/plain": [
              "                     title release_date  video_release_date  \\\n",
              "movieid                                                       \n",
              "1         Toy Story (1995)  01-Jan-1995                 NaN   \n",
              "2         GoldenEye (1995)  01-Jan-1995                 NaN   \n",
              "3        Four Rooms (1995)  01-Jan-1995                 NaN   \n",
              "4        Get Shorty (1995)  01-Jan-1995                 NaN   \n",
              "5           Copycat (1995)  01-Jan-1995                 NaN   \n",
              "\n",
              "                                                  IMDb_URL  unknown  Action  \\\n",
              "movieid                                                                       \n",
              "1        http://us.imdb.com/M/title-exact?Toy%20Story%2...        0       0   \n",
              "2        http://us.imdb.com/M/title-exact?GoldenEye%20(...        0       1   \n",
              "3        http://us.imdb.com/M/title-exact?Four%20Rooms%...        0       0   \n",
              "4        http://us.imdb.com/M/title-exact?Get%20Shorty%...        0       1   \n",
              "5        http://us.imdb.com/M/title-exact?Copycat%20(1995)        0       0   \n",
              "\n",
              "         Adventure  Animation  Children  Comedy   ...     Fantasy  Film-Noir  \\\n",
              "movieid                                           ...                          \n",
              "1                0          1         1       1   ...           0          0   \n",
              "2                1          0         0       0   ...           0          0   \n",
              "3                0          0         0       0   ...           0          0   \n",
              "4                0          0         0       1   ...           0          0   \n",
              "5                0          0         0       0   ...           0          0   \n",
              "\n",
              "         Horror  Musical  Mystery  Romance  Sci-Fi  Thriller  War  Western  \n",
              "movieid                                                                     \n",
              "1             0        0        0        0       0         0    0        0  \n",
              "2             0        0        0        0       0         1    0        0  \n",
              "3             0        0        0        0       0         1    0        0  \n",
              "4             0        0        0        0       0         0    0        0  \n",
              "5             0        0        0        0       0         1    0        0  \n",
              "\n",
              "[5 rows x 23 columns]"
            ]
          },
          "metadata": {
            "tags": []
          },
          "execution_count": 60
        }
      ]
    },
    {
      "metadata": {
        "id": "3JsjHzBFGqQI",
        "colab_type": "code",
        "colab": {
          "base_uri": "https://localhost:8080/",
          "height": 100
        },
        "outputId": "73137d2b-dafc-4a46-f9cc-a68667fd726d"
      },
      "cell_type": "code",
      "source": [
        "# ejemplo de cómo visualizar titulos de peliculas en base a sus IDs\n",
        "pelis = [5,4,1]\n",
        "info_file.loc[pelis]['title']"
      ],
      "execution_count": 61,
      "outputs": [
        {
          "output_type": "execute_result",
          "data": {
            "text/plain": [
              "movieid\n",
              "5       Copycat (1995)\n",
              "4    Get Shorty (1995)\n",
              "1     Toy Story (1995)\n",
              "Name: title, dtype: object"
            ]
          },
          "metadata": {
            "tags": []
          },
          "execution_count": 61
        }
      ]
    },
    {
      "metadata": {
        "id": "vypumB0LLl6B",
        "colab_type": "text"
      },
      "cell_type": "markdown",
      "source": [
        " 2.- Instalar ***pyreclab***"
      ]
    },
    {
      "metadata": {
        "id": "nbtrMHvG6uIt",
        "colab_type": "code",
        "colab": {
          "base_uri": "https://localhost:8080/",
          "height": 33
        },
        "outputId": "3d46a45a-e543-4969-afd5-2807596817e4"
      },
      "cell_type": "code",
      "source": [
        "!pip install pyreclab"
      ],
      "execution_count": 62,
      "outputs": [
        {
          "output_type": "stream",
          "text": [
            "Requirement already satisfied: pyreclab in /usr/local/lib/python3.6/dist-packages (0.1.12)\n"
          ],
          "name": "stdout"
        }
      ]
    },
    {
      "metadata": {
        "id": "8xjAMaNz-4dO",
        "colab_type": "text"
      },
      "cell_type": "markdown",
      "source": [
        "3..- Importar pyreclab y numpy"
      ]
    },
    {
      "metadata": {
        "id": "nv7g1e_i6wBY",
        "colab_type": "code",
        "colab": {}
      },
      "cell_type": "code",
      "source": [
        "import pyreclab\n",
        "import numpy as np"
      ],
      "execution_count": 0,
      "outputs": []
    },
    {
      "metadata": {
        "id": "tGbAZ8yAMAk5",
        "colab_type": "text"
      },
      "cell_type": "markdown",
      "source": [
        "4.- Probar método de recomendación basado en ***Most Popular***"
      ]
    },
    {
      "metadata": {
        "id": "ayKBs3MSS1JZ",
        "colab_type": "code",
        "colab": {}
      },
      "cell_type": "code",
      "source": [
        "# declarar el objeto recomendador de la clase MostPopular\n",
        "mymp = pyreclab.MostPopular(dataset = 'u1.base',dlmchar = b'\\t',header = False,usercol = 0,itemcol = 1, ratingcol = 2 )\n"
      ],
      "execution_count": 0,
      "outputs": []
    },
    {
      "metadata": {
        "id": "yt-4Z9XlTH8s",
        "colab_type": "code",
        "colab": {}
      },
      "cell_type": "code",
      "source": [
        "# entrenamos el modelo con los datos existentes\n",
        "\n",
        "# el método calcula el numero de veces que fue consumido cada item, \n",
        "# así, puede luego recomendar los mas populares\n",
        "mymp.train()"
      ],
      "execution_count": 0,
      "outputs": []
    },
    {
      "metadata": {
        "id": "hm1kj3CiTVq5",
        "colab_type": "code",
        "colab": {
          "base_uri": "https://localhost:8080/",
          "height": 33
        },
        "outputId": "e3e67c86-93af-4ae1-bdbf-64bf1abe6f54"
      },
      "cell_type": "code",
      "source": [
        "# con este método no podemos predecir ratings, pero sí podemos recomendar\n",
        "# la recomendación es no personalizada (igual recomendación a todos los usuarios)\n",
        "reclist = mymp.recommend(\"100\")\n",
        "print(reclist)"
      ],
      "execution_count": 66,
      "outputs": [
        {
          "output_type": "stream",
          "text": [
            "['50', '181', '258', '100', '294', '288', '286', '1', '121', '300']\n"
          ],
          "name": "stdout"
        }
      ]
    },
    {
      "metadata": {
        "id": "g06HSOn6KVoj",
        "colab_type": "code",
        "colab": {
          "base_uri": "https://localhost:8080/",
          "height": 217
        },
        "outputId": "9fe2b8fa-8fe4-41c2-cd5c-f68f0bfa346b"
      },
      "cell_type": "code",
      "source": [
        "# con esto podemos ver las recomendaciones con titulo de película\n",
        "pelis = np.array(reclist).astype(int)\n",
        "info_file.loc[pelis]['title']"
      ],
      "execution_count": 67,
      "outputs": [
        {
          "output_type": "execute_result",
          "data": {
            "text/plain": [
              "movieid\n",
              "50                  Star Wars (1977)\n",
              "181        Return of the Jedi (1983)\n",
              "258                   Contact (1997)\n",
              "100                     Fargo (1996)\n",
              "294                 Liar Liar (1997)\n",
              "288                    Scream (1996)\n",
              "286      English Patient, The (1996)\n",
              "1                   Toy Story (1995)\n",
              "121    Independence Day (ID4) (1996)\n",
              "300             Air Force One (1997)\n",
              "Name: title, dtype: object"
            ]
          },
          "metadata": {
            "tags": []
          },
          "execution_count": 67
        }
      ]
    },
    {
      "metadata": {
        "id": "d72jgXBsML5a",
        "colab_type": "text"
      },
      "cell_type": "markdown",
      "source": [
        "5.- Probar método de recomendación basado en ***ItemAvg***"
      ]
    },
    {
      "metadata": {
        "id": "DbSxcwx-WVVQ",
        "colab_type": "code",
        "colab": {}
      },
      "cell_type": "code",
      "source": [
        "# declarar el objeto recomendador ItemAvg\n",
        "myitemavg = pyreclab.ItemAvg(dataset = 'u1.base',dlmchar = b'\\t',header = False,usercol = 0,itemcol = 1, ratingcol = 2 )\n"
      ],
      "execution_count": 0,
      "outputs": []
    },
    {
      "metadata": {
        "id": "JxaWtdjgWVhu",
        "colab_type": "code",
        "colab": {}
      },
      "cell_type": "code",
      "source": [
        "# entrenamos el modelo con los datos existentes\n",
        "myitemavg.train()"
      ],
      "execution_count": 0,
      "outputs": []
    },
    {
      "metadata": {
        "id": "tMiP_Z2VYZB9",
        "colab_type": "text"
      },
      "cell_type": "markdown",
      "source": [
        "¿Qué cree usted que hace la función train() del método de recomendación ItemAvg() ?"
      ]
    },
    {
      "metadata": {
        "id": "HoRM5ILcYS8l",
        "colab_type": "text"
      },
      "cell_type": "markdown",
      "source": [
        "Respuesta:  ***Entrena un modelo de recomendación basado en el promedio de rating POR ITEM***"
      ]
    },
    {
      "metadata": {
        "id": "QIN7IAHyWVtL",
        "colab_type": "code",
        "colab": {
          "base_uri": "https://localhost:8080/",
          "height": 33
        },
        "outputId": "845fcc16-c02c-48b7-81fa-c8da7396b2dd"
      },
      "cell_type": "code",
      "source": [
        "# Predecir rating que el usuario ID 457 le dará al ítem ID 37\n",
        "myitemavg.predict(\"457\",\"37\")"
      ],
      "execution_count": 70,
      "outputs": [
        {
          "output_type": "execute_result",
          "data": {
            "text/plain": [
              "2.3333332538604736"
            ]
          },
          "metadata": {
            "tags": []
          },
          "execution_count": 70
        }
      ]
    },
    {
      "metadata": {
        "id": "FAmYXWtWXg3D",
        "colab_type": "text"
      },
      "cell_type": "markdown",
      "source": [
        "Ejecute el mismo comando anterior para predecir esta vez el rating que el usuario 498 dará al item 37 ¿Qué rating da? ¿Cómo se explica este resultado?"
      ]
    },
    {
      "metadata": {
        "id": "LZuWe5vlQNdR",
        "colab_type": "code",
        "colab": {
          "base_uri": "https://localhost:8080/",
          "height": 33
        },
        "outputId": "dcbf2525-5c6c-4ef5-d1b2-7bfa6dbe999c"
      },
      "cell_type": "code",
      "source": [
        "myitemavg.predict(\"498\",\"37\")"
      ],
      "execution_count": 71,
      "outputs": [
        {
          "output_type": "execute_result",
          "data": {
            "text/plain": [
              "2.3333332538604736"
            ]
          },
          "metadata": {
            "tags": []
          },
          "execution_count": 71
        }
      ]
    },
    {
      "metadata": {
        "id": "wJvLQ2HoYrCX",
        "colab_type": "text"
      },
      "cell_type": "markdown",
      "source": [
        "Respuesta: ***El metodo de recomendación no es personalizado.  Entonces, el método \"ItemAvg\", realiza un cálculo promedios simples agrupados por películas. No considera el parámetro de usuario (userId) para obtener la predicción.***"
      ]
    },
    {
      "metadata": {
        "id": "Fr40bOYsXtnP",
        "colab_type": "code",
        "colab": {
          "base_uri": "https://localhost:8080/",
          "height": 33
        },
        "outputId": "75d34c9f-e563-4edb-8dec-badfd67b89f1"
      },
      "cell_type": "code",
      "source": [
        "# Generar lista de 5 recomendaciones para el usuario con ID 457\n",
        "\n",
        "reclist_iavg = myitemavg.recommend(\"457\",5)\n",
        "print(reclist_iavg)"
      ],
      "execution_count": 72,
      "outputs": [
        {
          "output_type": "stream",
          "text": [
            "['1500', '1653', '1599', '1189', '1467']\n"
          ],
          "name": "stdout"
        }
      ]
    },
    {
      "metadata": {
        "id": "_ZdUT93BMYgq",
        "colab_type": "text"
      },
      "cell_type": "markdown",
      "source": [
        "Genere una lista de 11 recomendaciones para el usario ID 478 ¿Cómo se explican las recomendaciones del método para este usuario comparadas con las del usuario 457?"
      ]
    },
    {
      "metadata": {
        "id": "6_9NNOGoaAzi",
        "colab_type": "code",
        "colab": {
          "base_uri": "https://localhost:8080/",
          "height": 33
        },
        "outputId": "8c70bffa-3956-49f5-a400-83e4f848f238"
      },
      "cell_type": "code",
      "source": [
        "# genera aqui las recomendacion para el usuario 478\n",
        "\n",
        "reclist_iavg_nueva = myitemavg.recommend(\"478\",11)\n",
        "print(reclist_iavg_nueva)"
      ],
      "execution_count": 73,
      "outputs": [
        {
          "output_type": "stream",
          "text": [
            "['1500', '1653', '1599', '1189', '1467', '1293', '1201', '1122', '1449', '1367', '408']\n"
          ],
          "name": "stdout"
        }
      ]
    },
    {
      "metadata": {
        "id": "4ndrsHNOYujg",
        "colab_type": "text"
      },
      "cell_type": "markdown",
      "source": [
        "Respuesta: ***COnsiderando que metodo de recomendación no es personalizado continúa entregando items similares, en el orden calculado por el método ItemAvg ***"
      ]
    },
    {
      "metadata": {
        "id": "4WV4L4lmOW5-",
        "colab_type": "text"
      },
      "cell_type": "markdown",
      "source": [
        "¿Cuáles son los títulos de las películas recomendadas por el método **ItemAvg ** para el usuario 457 ? ¿Qué le parecen estas recomendaciones comparadas con el método **MostPopular**?"
      ]
    },
    {
      "metadata": {
        "id": "2LusCIifSye9",
        "colab_type": "text"
      },
      "cell_type": "markdown",
      "source": [
        "Respuesta: **Las siguientes son las peliculas que fueron recomendadas para el usuario 457.**\n",
        "\n",
        "**Nos parece con mayor valor aquellas que fueron recomendadas por MostPopular,  En vez de ItemAvg, dado que este es un simple promedio de rating de cada Item.** "
      ]
    },
    {
      "metadata": {
        "id": "S9TLKRK-O8FH",
        "colab_type": "code",
        "colab": {
          "base_uri": "https://localhost:8080/",
          "height": 233
        },
        "outputId": "de7ee84e-8062-4002-9d54-9f195a76ceee"
      },
      "cell_type": "code",
      "source": [
        "# (pista) recuerde los comandos usados en el método anterior\n",
        "\n",
        "pelis = np.array(reclist_iavg_nueva).astype(int)\n",
        "info_file.loc[pelis]['title']"
      ],
      "execution_count": 74,
      "outputs": [
        {
          "output_type": "execute_result",
          "data": {
            "text/plain": [
              "movieid\n",
              "1500                            Santa with Muscles (1996)\n",
              "1653    Entertaining Angels: The Dorothy Day Story (1996)\n",
              "1599                        Someone Else's America (1995)\n",
              "1189                                   Prefontaine (1997)\n",
              "1467                 Saint of Fort Washington, The (1993)\n",
              "1293                                      Star Kid (1997)\n",
              "1201           Marlene Dietrich: Shadow and Light (1996) \n",
              "1122                       They Made Me a Criminal (1939)\n",
              "1449                               Pather Panchali (1955)\n",
              "1367                                         Faust (1994)\n",
              "408                                 Close Shave, A (1995)\n",
              "Name: title, dtype: object"
            ]
          },
          "metadata": {
            "tags": []
          },
          "execution_count": 74
        }
      ]
    },
    {
      "metadata": {
        "id": "HFjbrgBYtr1K",
        "colab_type": "text"
      },
      "cell_type": "markdown",
      "source": [
        "### Wilson-score"
      ]
    },
    {
      "metadata": {
        "id": "eMYgvNsCtq4M",
        "colab_type": "code",
        "colab": {}
      },
      "cell_type": "code",
      "source": [
        ""
      ],
      "execution_count": 0,
      "outputs": []
    },
    {
      "metadata": {
        "id": "2e0ZeZXzMhU3",
        "colab_type": "text"
      },
      "cell_type": "markdown",
      "source": [
        "6.- Probar método de recomendación basado en ***UserKNN***"
      ]
    },
    {
      "metadata": {
        "id": "ONuL2UkwaqPH",
        "colab_type": "code",
        "colab": {}
      },
      "cell_type": "code",
      "source": [
        "# declarar el objeto recomendador UserKnn\n",
        "myUserKnn = pyreclab.UserKnn(dataset = 'u1.base',dlmchar = b'\\t',header = False,usercol = 0,itemcol = 1, ratingcol = 2 )\n"
      ],
      "execution_count": 0,
      "outputs": []
    },
    {
      "metadata": {
        "id": "uhjC9eRYaqPK",
        "colab_type": "code",
        "colab": {}
      },
      "cell_type": "code",
      "source": [
        "# entrenamos el modelo con los datos existentes\n",
        "# recuerde que en este metodo puede probar el parámetro k de cantidad de vecinos\n",
        "# así como la métrica de similaridad (pearson, cosine)\n",
        "myUserKnn.train(7,'pearson')"
      ],
      "execution_count": 0,
      "outputs": []
    },
    {
      "metadata": {
        "id": "feSl8bmBaqPO",
        "colab_type": "code",
        "colab": {
          "base_uri": "https://localhost:8080/",
          "height": 33
        },
        "outputId": "1b03e39d-9762-48d9-88c6-d2e44225f0e7"
      },
      "cell_type": "code",
      "source": [
        "# Predecir rating que el usuario ID 457 le dará al ítem ID 37\n",
        "myUserKnn.predict( \"457\",\"37\"  )"
      ],
      "execution_count": 77,
      "outputs": [
        {
          "output_type": "execute_result",
          "data": {
            "text/plain": [
              "3.1338725090026855"
            ]
          },
          "metadata": {
            "tags": []
          },
          "execution_count": 77
        }
      ]
    },
    {
      "metadata": {
        "id": "I-iqQvAdTTCP",
        "colab_type": "text"
      },
      "cell_type": "markdown",
      "source": [
        "Según el modelo de recomendación UserKnn, qué rating le dará el usuario 457 al item 37 ?\n",
        "\n",
        "Respuesta: **El rating obtenido 3.1339.**"
      ]
    },
    {
      "metadata": {
        "id": "otr7zq1jaqPR",
        "colab_type": "code",
        "colab": {
          "base_uri": "https://localhost:8080/",
          "height": 33
        },
        "outputId": "c201e82c-770f-4beb-ae28-ff5e6919a26e"
      },
      "cell_type": "code",
      "source": [
        "# Generar lista de recomendaciones 6 para el usuario con ID 457\n",
        "\n",
        "reclist_uknn = myUserKnn.recommend(\"457\",5)\n",
        "print(reclist_uknn)\n"
      ],
      "execution_count": 78,
      "outputs": [
        {
          "output_type": "stream",
          "text": [
            "['1467', '242', '1599', '1642', '1653']\n"
          ],
          "name": "stdout"
        }
      ]
    },
    {
      "metadata": {
        "id": "Bi7_nCE7TmOZ",
        "colab_type": "text"
      },
      "cell_type": "markdown",
      "source": [
        "Escriba los nombres de las películas recomendadas por el método knn\n",
        "\n",
        "Respuesta: **['1467', '242', '1599', '1642', '1653']**"
      ]
    },
    {
      "metadata": {
        "id": "xu6ZHcrkfumP",
        "colab_type": "code",
        "colab": {
          "base_uri": "https://localhost:8080/",
          "height": 133
        },
        "outputId": "6091cd04-31a7-4447-ab91-3bd90f1e6a8a"
      },
      "cell_type": "code",
      "source": [
        "# (pista) recuerde los comandos usados en el método anterior\n",
        "\n",
        "pelis = np.array(reclist_uknn).astype(int)\n",
        "info_file.loc[pelis]['title']"
      ],
      "execution_count": 79,
      "outputs": [
        {
          "output_type": "execute_result",
          "data": {
            "text/plain": [
              "movieid\n",
              "1467                 Saint of Fort Washington, The (1993)\n",
              "242                                          Kolya (1996)\n",
              "1599                        Someone Else's America (1995)\n",
              "1642                             Some Mother's Son (1996)\n",
              "1653    Entertaining Angels: The Dorothy Day Story (1996)\n",
              "Name: title, dtype: object"
            ]
          },
          "metadata": {
            "tags": []
          },
          "execution_count": 79
        }
      ]
    },
    {
      "metadata": {
        "id": "C-te1p0oaUU_",
        "colab_type": "code",
        "colab": {}
      },
      "cell_type": "code",
      "source": [
        "# Evaluar en base a error de prediccion (RMSE)\n",
        "\n",
        "k_values = [6, 7,8] # definir distintos valores de vecinos (k)\n",
        "mae_values = [] # para almacenar resultados de MAE\n",
        "rmse_values = [] # para almacenar valores de RMSE\n",
        "\n",
        "for k in k_values:\n",
        "  \n",
        "  myUserKnn.train(k, 'pearson')\n",
        "  predlist, mae, rmse = myUserKnn.test( input_file = 'u1.test',dlmchar = b'\\t', header = False, usercol = 0, itemcol = 1, ratingcol = 2, output_file = 'predictions.csv' )\n",
        "  rmse_values.append(rmse)   \n",
        "  "
      ],
      "execution_count": 0,
      "outputs": []
    },
    {
      "metadata": {
        "id": "Xk0QGVvsiQUO",
        "colab_type": "code",
        "colab": {
          "base_uri": "https://localhost:8080/",
          "height": 33
        },
        "outputId": "1c7c76b9-1593-4bbe-c47b-49cb424627cd"
      },
      "cell_type": "code",
      "source": [
        "print(rmse_values)"
      ],
      "execution_count": 81,
      "outputs": [
        {
          "output_type": "stream",
          "text": [
            "[1.0161911302497169, 1.005357873576839, 0.9982298100545299]\n"
          ],
          "name": "stdout"
        }
      ]
    },
    {
      "metadata": {
        "id": "q9E0YClOjPGb",
        "colab_type": "code",
        "colab": {
          "base_uri": "https://localhost:8080/",
          "height": 265
        },
        "outputId": "35c27e07-808a-49bf-ff4f-2a09f270b20c"
      },
      "cell_type": "code",
      "source": [
        "import matplotlib.pyplot as plt\n",
        "%matplotlib inline\n",
        "\n",
        "plt.plot(k_values, rmse_values, 'r-')\n",
        "plt.plot(k_values, rmse_values, 'bo')\n",
        "plt.show()"
      ],
      "execution_count": 82,
      "outputs": [
        {
          "output_type": "display_data",
          "data": {
            "image/png": "[encoded data removed]",
            "text/plain": [
              "<matplotlib.figure.Figure at 0x7f8ba646cc50>"
            ]
          },
          "metadata": {
            "tags": []
          }
        }
      ]
    },
    {
      "metadata": {
        "id": "jrjMzM5zioaP",
        "colab_type": "text"
      },
      "cell_type": "markdown",
      "source": [
        "Según los resultados: ¿ qué numero de vecinos es mejor para hacer recomendaciones con un menor error de predicción ?\n",
        "\n",
        "SIETE."
      ]
    },
    {
      "metadata": {
        "id": "FqgkF0dNMo9c",
        "colab_type": "text"
      },
      "cell_type": "markdown",
      "source": [
        "7.- Probar método de recomendación basado en ***ItemKNN***"
      ]
    },
    {
      "metadata": {
        "id": "BIoEuAPGM922",
        "colab_type": "text"
      },
      "cell_type": "markdown",
      "source": [
        "Replicar todo el análisis de UserKNN con el método ItemKNN"
      ]
    },
    {
      "metadata": {
        "id": "OwP5JKPyiYxC",
        "colab_type": "code",
        "colab": {}
      },
      "cell_type": "code",
      "source": [
        "# declarar el objeto recomendador itemKnn\n",
        "itemKnn = pyreclab.ItemKnn(dataset = 'u1.base',dlmchar = b'\\t',header = False,usercol = 0,itemcol = 1, ratingcol = 2 )\n"
      ],
      "execution_count": 0,
      "outputs": []
    },
    {
      "metadata": {
        "id": "wB1y3-pnidPO",
        "colab_type": "code",
        "colab": {}
      },
      "cell_type": "code",
      "source": [
        "# entrenamos el modelo con los datos existentes\n",
        "# recuerde que en este metodo puede probar el parámetro k de cantidad de vecinos\n",
        "# así como la métrica de similaridad (pearson, cosine)\n",
        "itemKnn.train(7,'pearson')"
      ],
      "execution_count": 0,
      "outputs": []
    },
    {
      "metadata": {
        "id": "Rw98wyU_ihSm",
        "colab_type": "code",
        "colab": {
          "base_uri": "https://localhost:8080/",
          "height": 33
        },
        "outputId": "afa87be1-cdae-4173-d9ab-bdcaff67c788"
      },
      "cell_type": "code",
      "source": [
        "# Predecir rating que el usuario ID 457 le dará al ítem ID 37\n",
        "itemKnn.predict( \"457\",\"37\"  )"
      ],
      "execution_count": 85,
      "outputs": [
        {
          "output_type": "execute_result",
          "data": {
            "text/plain": [
              "2.7810769081115723"
            ]
          },
          "metadata": {
            "tags": []
          },
          "execution_count": 85
        }
      ]
    },
    {
      "metadata": {
        "id": "0pXhlK30lG4x",
        "colab_type": "code",
        "colab": {
          "base_uri": "https://localhost:8080/",
          "height": 33
        },
        "outputId": "2fafbd72-9a79-4255-9e0c-b509513d17a1"
      },
      "cell_type": "code",
      "source": [
        "reclist_item = itemKnn.recommend(\"457\",5)\n",
        "print(reclist_item)"
      ],
      "execution_count": 86,
      "outputs": [
        {
          "output_type": "stream",
          "text": [
            "['1449', '1367', '1642', '119', '1142']\n"
          ],
          "name": "stdout"
        }
      ]
    },
    {
      "metadata": {
        "id": "zsO1h_8anO8D",
        "colab_type": "code",
        "colab": {
          "base_uri": "https://localhost:8080/",
          "height": 133
        },
        "outputId": "8a7f0a7f-af56-436a-8b94-5ccddf67ec1a"
      },
      "cell_type": "code",
      "source": [
        "# (pista) recuerde los comandos usados en el método anterior\n",
        "\n",
        "pelis = np.array(reclist_item).astype(int)\n",
        "info_file.loc[pelis]['title']"
      ],
      "execution_count": 87,
      "outputs": [
        {
          "output_type": "execute_result",
          "data": {
            "text/plain": [
              "movieid\n",
              "1449                    Pather Panchali (1955)\n",
              "1367                              Faust (1994)\n",
              "1642                  Some Mother's Son (1996)\n",
              "119     Maya Lin: A Strong Clear Vision (1994)\n",
              "1142                 When We Were Kings (1996)\n",
              "Name: title, dtype: object"
            ]
          },
          "metadata": {
            "tags": []
          },
          "execution_count": 87
        }
      ]
    },
    {
      "metadata": {
        "id": "NAE5IZzXMqiJ",
        "colab_type": "text"
      },
      "cell_type": "markdown",
      "source": [
        "8.- Probar método de recomendación basado en ***SlopeOne***"
      ]
    },
    {
      "metadata": {
        "id": "DVxQhhIWjxss",
        "colab_type": "code",
        "colab": {}
      },
      "cell_type": "code",
      "source": [
        "# declarar el objeto recomendador itemKnn\n",
        "slopeOne = pyreclab.SlopeOne(dataset = 'u1.base',dlmchar = b'\\t',header = False,usercol = 0,itemcol = 1, ratingcol = 2 )"
      ],
      "execution_count": 0,
      "outputs": []
    },
    {
      "metadata": {
        "id": "aQ7v3UV2kJLD",
        "colab_type": "code",
        "colab": {}
      },
      "cell_type": "code",
      "source": [
        "# entrenamos el modelo con los datos existentes\n",
        "# recuerde que en este metodo puede probar el parámetro k de cantidad de vecinos\n",
        "# así como la métrica de similaridad (pearson, cosine)\n",
        "slopeOne.train(7,'pearson')"
      ],
      "execution_count": 0,
      "outputs": []
    },
    {
      "metadata": {
        "id": "JCB37A2FkK2X",
        "colab_type": "code",
        "colab": {
          "base_uri": "https://localhost:8080/",
          "height": 33
        },
        "outputId": "98abd4ef-e992-4a53-f6da-bcbe9e92588b"
      },
      "cell_type": "code",
      "source": [
        "# Predecir rating que el usuario ID 457 le dará al ítem ID 37\n",
        "slopeOne.predict( \"457\",\"37\"  )"
      ],
      "execution_count": 90,
      "outputs": [
        {
          "output_type": "execute_result",
          "data": {
            "text/plain": [
              "3.214552164077759"
            ]
          },
          "metadata": {
            "tags": []
          },
          "execution_count": 90
        }
      ]
    },
    {
      "metadata": {
        "id": "mUJWdxnHnAc_",
        "colab_type": "code",
        "colab": {
          "base_uri": "https://localhost:8080/",
          "height": 33
        },
        "outputId": "530b65b1-56af-43ac-bcfe-b6a76148ac53"
      },
      "cell_type": "code",
      "source": [
        "reclist_uknn = slopeOne.recommend(\"457\",5)\n",
        "print(reclist_uknn)"
      ],
      "execution_count": 91,
      "outputs": [
        {
          "output_type": "stream",
          "text": [
            "['1500', '1656', '1653', '1651', '1650']\n"
          ],
          "name": "stdout"
        }
      ]
    },
    {
      "metadata": {
        "id": "Wd_8xr_QpfvC",
        "colab_type": "code",
        "colab": {
          "base_uri": "https://localhost:8080/",
          "height": 133
        },
        "outputId": "28e7a7f5-d319-449b-9247-632d9869b70d"
      },
      "cell_type": "code",
      "source": [
        "# (pista) recuerde los comandos usados en el método anterior\n",
        "\n",
        "pelis = np.array(reclist_item).astype(int)\n",
        "info_file.loc[pelis]['title']"
      ],
      "execution_count": 92,
      "outputs": [
        {
          "output_type": "execute_result",
          "data": {
            "text/plain": [
              "movieid\n",
              "1449                    Pather Panchali (1955)\n",
              "1367                              Faust (1994)\n",
              "1642                  Some Mother's Son (1996)\n",
              "119     Maya Lin: A Strong Clear Vision (1994)\n",
              "1142                 When We Were Kings (1996)\n",
              "Name: title, dtype: object"
            ]
          },
          "metadata": {
            "tags": []
          },
          "execution_count": 92
        }
      ]
    },
    {
      "metadata": {
        "id": "qKspTai4NCNb",
        "colab_type": "text"
      },
      "cell_type": "markdown",
      "source": [
        "Replicar todo el análisis de UserKNN con el método SlopeOne\n"
      ]
    }
  ]
}